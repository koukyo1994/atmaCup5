{
 "cells": [
  {
   "cell_type": "markdown",
   "metadata": {},
   "source": [
    "## Libraries"
   ]
  },
  {
   "cell_type": "code",
   "execution_count": 1,
   "metadata": {},
   "outputs": [],
   "source": [
    "import matplotlib.pyplot as plt\n",
    "import numpy as np\n",
    "import pandas as pd\n",
    "\n",
    "from pathlib import Path"
   ]
  },
  {
   "cell_type": "markdown",
   "metadata": {},
   "source": [
    "## Data Loading"
   ]
  },
  {
   "cell_type": "code",
   "execution_count": 2,
   "metadata": {},
   "outputs": [],
   "source": [
    "data_dir = Path(\"../input/atma5/\")\n",
    "spectrum_dir = data_dir / \"spectrum\""
   ]
  },
  {
   "cell_type": "code",
   "execution_count": 3,
   "metadata": {},
   "outputs": [],
   "source": [
    "train = pd.read_csv(data_dir / \"train.csv\")\n",
    "test = pd.read_csv(data_dir / \"test.csv\")\n",
    "fitting = pd.read_csv(data_dir / \"fitting.csv\")"
   ]
  },
  {
   "cell_type": "markdown",
   "metadata": {},
   "source": [
    "## EDA"
   ]
  },
  {
   "cell_type": "code",
   "execution_count": 4,
   "metadata": {},
   "outputs": [
    {
     "data": {
      "text/html": [
       "<div>\n",
       "<style scoped>\n",
       "    .dataframe tbody tr th:only-of-type {\n",
       "        vertical-align: middle;\n",
       "    }\n",
       "\n",
       "    .dataframe tbody tr th {\n",
       "        vertical-align: top;\n",
       "    }\n",
       "\n",
       "    .dataframe thead th {\n",
       "        text-align: right;\n",
       "    }\n",
       "</style>\n",
       "<table border=\"1\" class=\"dataframe\">\n",
       "  <thead>\n",
       "    <tr style=\"text-align: right;\">\n",
       "      <th></th>\n",
       "      <th>spectrum_id</th>\n",
       "      <th>spectrum_filename</th>\n",
       "      <th>chip_id</th>\n",
       "      <th>exc_wl</th>\n",
       "      <th>layout_a</th>\n",
       "      <th>layout_x</th>\n",
       "      <th>layout_y</th>\n",
       "      <th>pos_x</th>\n",
       "      <th>target</th>\n",
       "    </tr>\n",
       "  </thead>\n",
       "  <tbody>\n",
       "    <tr>\n",
       "      <th>0</th>\n",
       "      <td>000da4633378740f1ee8</td>\n",
       "      <td>b2e223339f4abce9b400.dat</td>\n",
       "      <td>79ad4647da6de6425abf</td>\n",
       "      <td>850</td>\n",
       "      <td>2</td>\n",
       "      <td>36</td>\n",
       "      <td>140</td>\n",
       "      <td>1313.0810</td>\n",
       "      <td>0</td>\n",
       "    </tr>\n",
       "    <tr>\n",
       "      <th>1</th>\n",
       "      <td>000ed1a5a9fe0ad2b7dd</td>\n",
       "      <td>e2f150a503244145e7ce.dat</td>\n",
       "      <td>79ad4647da6de6425abf</td>\n",
       "      <td>780</td>\n",
       "      <td>3</td>\n",
       "      <td>0</td>\n",
       "      <td>168</td>\n",
       "      <td>159.4150</td>\n",
       "      <td>0</td>\n",
       "    </tr>\n",
       "    <tr>\n",
       "      <th>2</th>\n",
       "      <td>0016e3322c4ce0700f9a</td>\n",
       "      <td>3d58b7ccaee157979cf0.dat</td>\n",
       "      <td>c695a1e61e002b34e556</td>\n",
       "      <td>780</td>\n",
       "      <td>1</td>\n",
       "      <td>34</td>\n",
       "      <td>29</td>\n",
       "      <td>-610.7688</td>\n",
       "      <td>0</td>\n",
       "    </tr>\n",
       "    <tr>\n",
       "      <th>3</th>\n",
       "      <td>00256bd0f8c6cf5f59c8</td>\n",
       "      <td>ed3641184d3b7c0ae703.dat</td>\n",
       "      <td>c695a1e61e002b34e556</td>\n",
       "      <td>780</td>\n",
       "      <td>2</td>\n",
       "      <td>32</td>\n",
       "      <td>139</td>\n",
       "      <td>1214.6180</td>\n",
       "      <td>0</td>\n",
       "    </tr>\n",
       "    <tr>\n",
       "      <th>4</th>\n",
       "      <td>003483ee5ae313d37590</td>\n",
       "      <td>4c63418d39f86dfab9bb.dat</td>\n",
       "      <td>c695a1e61e002b34e556</td>\n",
       "      <td>780</td>\n",
       "      <td>0</td>\n",
       "      <td>45</td>\n",
       "      <td>85</td>\n",
       "      <td>-257.6161</td>\n",
       "      <td>0</td>\n",
       "    </tr>\n",
       "  </tbody>\n",
       "</table>\n",
       "</div>"
      ],
      "text/plain": [
       "            spectrum_id         spectrum_filename               chip_id  \\\n",
       "0  000da4633378740f1ee8  b2e223339f4abce9b400.dat  79ad4647da6de6425abf   \n",
       "1  000ed1a5a9fe0ad2b7dd  e2f150a503244145e7ce.dat  79ad4647da6de6425abf   \n",
       "2  0016e3322c4ce0700f9a  3d58b7ccaee157979cf0.dat  c695a1e61e002b34e556   \n",
       "3  00256bd0f8c6cf5f59c8  ed3641184d3b7c0ae703.dat  c695a1e61e002b34e556   \n",
       "4  003483ee5ae313d37590  4c63418d39f86dfab9bb.dat  c695a1e61e002b34e556   \n",
       "\n",
       "   exc_wl  layout_a  layout_x  layout_y      pos_x  target  \n",
       "0     850         2        36       140  1313.0810       0  \n",
       "1     780         3         0       168   159.4150       0  \n",
       "2     780         1        34        29  -610.7688       0  \n",
       "3     780         2        32       139  1214.6180       0  \n",
       "4     780         0        45        85  -257.6161       0  "
      ]
     },
     "execution_count": 4,
     "metadata": {},
     "output_type": "execute_result"
    }
   ],
   "source": [
    "train.head()"
   ]
  },
  {
   "cell_type": "code",
   "execution_count": 5,
   "metadata": {},
   "outputs": [
    {
     "data": {
      "text/html": [
       "<div>\n",
       "<style scoped>\n",
       "    .dataframe tbody tr th:only-of-type {\n",
       "        vertical-align: middle;\n",
       "    }\n",
       "\n",
       "    .dataframe tbody tr th {\n",
       "        vertical-align: top;\n",
       "    }\n",
       "\n",
       "    .dataframe thead th {\n",
       "        text-align: right;\n",
       "    }\n",
       "</style>\n",
       "<table border=\"1\" class=\"dataframe\">\n",
       "  <thead>\n",
       "    <tr style=\"text-align: right;\">\n",
       "      <th></th>\n",
       "      <th>spectrum_id</th>\n",
       "      <th>spectrum_filename</th>\n",
       "      <th>chip_id</th>\n",
       "      <th>exc_wl</th>\n",
       "      <th>layout_a</th>\n",
       "      <th>layout_x</th>\n",
       "      <th>layout_y</th>\n",
       "      <th>pos_x</th>\n",
       "    </tr>\n",
       "  </thead>\n",
       "  <tbody>\n",
       "    <tr>\n",
       "      <th>0</th>\n",
       "      <td>000c50e603636dee33c7</td>\n",
       "      <td>fe0fb0a5d966d574c98b.dat</td>\n",
       "      <td>a948b8cdcd7957eb5c31</td>\n",
       "      <td>780</td>\n",
       "      <td>3</td>\n",
       "      <td>0</td>\n",
       "      <td>184</td>\n",
       "      <td>189.6556</td>\n",
       "    </tr>\n",
       "    <tr>\n",
       "      <th>1</th>\n",
       "      <td>000cba4c60cc418502e8</td>\n",
       "      <td>f1a2e526d2fbeadf20ca.dat</td>\n",
       "      <td>3c2948d0a755e5ff99f6</td>\n",
       "      <td>780</td>\n",
       "      <td>1</td>\n",
       "      <td>45</td>\n",
       "      <td>188</td>\n",
       "      <td>-256.4733</td>\n",
       "    </tr>\n",
       "    <tr>\n",
       "      <th>2</th>\n",
       "      <td>0016566cc4324433f909</td>\n",
       "      <td>a9c9daa6e724bda94190.dat</td>\n",
       "      <td>3c2948d0a755e5ff99f6</td>\n",
       "      <td>850</td>\n",
       "      <td>1</td>\n",
       "      <td>44</td>\n",
       "      <td>135</td>\n",
       "      <td>-291.3372</td>\n",
       "    </tr>\n",
       "    <tr>\n",
       "      <th>3</th>\n",
       "      <td>001d350c22eb0a7bb876</td>\n",
       "      <td>02559998e0cd35810729.dat</td>\n",
       "      <td>3c2948d0a755e5ff99f6</td>\n",
       "      <td>850</td>\n",
       "      <td>1</td>\n",
       "      <td>26</td>\n",
       "      <td>141</td>\n",
       "      <td>-863.9271</td>\n",
       "    </tr>\n",
       "    <tr>\n",
       "      <th>4</th>\n",
       "      <td>002b39505ff347dca818</td>\n",
       "      <td>fe70889bcb853adf1d05.dat</td>\n",
       "      <td>3c2948d0a755e5ff99f6</td>\n",
       "      <td>780</td>\n",
       "      <td>3</td>\n",
       "      <td>18</td>\n",
       "      <td>64</td>\n",
       "      <td>737.2772</td>\n",
       "    </tr>\n",
       "  </tbody>\n",
       "</table>\n",
       "</div>"
      ],
      "text/plain": [
       "            spectrum_id         spectrum_filename               chip_id  \\\n",
       "0  000c50e603636dee33c7  fe0fb0a5d966d574c98b.dat  a948b8cdcd7957eb5c31   \n",
       "1  000cba4c60cc418502e8  f1a2e526d2fbeadf20ca.dat  3c2948d0a755e5ff99f6   \n",
       "2  0016566cc4324433f909  a9c9daa6e724bda94190.dat  3c2948d0a755e5ff99f6   \n",
       "3  001d350c22eb0a7bb876  02559998e0cd35810729.dat  3c2948d0a755e5ff99f6   \n",
       "4  002b39505ff347dca818  fe70889bcb853adf1d05.dat  3c2948d0a755e5ff99f6   \n",
       "\n",
       "   exc_wl  layout_a  layout_x  layout_y     pos_x  \n",
       "0     780         3         0       184  189.6556  \n",
       "1     780         1        45       188 -256.4733  \n",
       "2     850         1        44       135 -291.3372  \n",
       "3     850         1        26       141 -863.9271  \n",
       "4     780         3        18        64  737.2772  "
      ]
     },
     "execution_count": 5,
     "metadata": {},
     "output_type": "execute_result"
    }
   ],
   "source": [
    "test.head()"
   ]
  },
  {
   "cell_type": "code",
   "execution_count": 6,
   "metadata": {},
   "outputs": [
    {
     "data": {
      "text/plain": [
       "7436"
      ]
     },
     "execution_count": 6,
     "metadata": {},
     "output_type": "execute_result"
    }
   ],
   "source": [
    "len(train)"
   ]
  },
  {
   "cell_type": "code",
   "execution_count": 7,
   "metadata": {},
   "outputs": [
    {
     "data": {
      "text/plain": [
       "6952"
      ]
     },
     "execution_count": 7,
     "metadata": {},
     "output_type": "execute_result"
    }
   ],
   "source": [
    "len(test)"
   ]
  },
  {
   "cell_type": "code",
   "execution_count": 8,
   "metadata": {},
   "outputs": [
    {
     "data": {
      "text/plain": [
       "7436"
      ]
     },
     "execution_count": 8,
     "metadata": {},
     "output_type": "execute_result"
    }
   ],
   "source": [
    "train.spectrum_id.nunique()"
   ]
  },
  {
   "cell_type": "code",
   "execution_count": 10,
   "metadata": {},
   "outputs": [
    {
     "data": {
      "text/plain": [
       "7436"
      ]
     },
     "execution_count": 10,
     "metadata": {},
     "output_type": "execute_result"
    }
   ],
   "source": [
    "train.spectrum_filename.nunique()"
   ]
  },
  {
   "cell_type": "code",
   "execution_count": 11,
   "metadata": {},
   "outputs": [
    {
     "data": {
      "text/plain": [
       "6"
      ]
     },
     "execution_count": 11,
     "metadata": {},
     "output_type": "execute_result"
    }
   ],
   "source": [
    "train.chip_id.nunique()"
   ]
  },
  {
   "cell_type": "code",
   "execution_count": 12,
   "metadata": {},
   "outputs": [
    {
     "data": {
      "text/plain": [
       "2"
      ]
     },
     "execution_count": 12,
     "metadata": {},
     "output_type": "execute_result"
    }
   ],
   "source": [
    "train.exc_wl.nunique()"
   ]
  },
  {
   "cell_type": "code",
   "execution_count": 13,
   "metadata": {},
   "outputs": [
    {
     "data": {
      "text/plain": [
       "4"
      ]
     },
     "execution_count": 13,
     "metadata": {},
     "output_type": "execute_result"
    }
   ],
   "source": [
    "train.layout_a.nunique()"
   ]
  },
  {
   "cell_type": "code",
   "execution_count": 14,
   "metadata": {},
   "outputs": [
    {
     "data": {
      "text/plain": [
       "0.03173749327595481"
      ]
     },
     "execution_count": 14,
     "metadata": {},
     "output_type": "execute_result"
    }
   ],
   "source": [
    "train.target.mean()"
   ]
  },
  {
   "cell_type": "code",
   "execution_count": 15,
   "metadata": {},
   "outputs": [
    {
     "data": {
      "text/html": [
       "<div>\n",
       "<style scoped>\n",
       "    .dataframe tbody tr th:only-of-type {\n",
       "        vertical-align: middle;\n",
       "    }\n",
       "\n",
       "    .dataframe tbody tr th {\n",
       "        vertical-align: top;\n",
       "    }\n",
       "\n",
       "    .dataframe thead th {\n",
       "        text-align: right;\n",
       "    }\n",
       "</style>\n",
       "<table border=\"1\" class=\"dataframe\">\n",
       "  <thead>\n",
       "    <tr style=\"text-align: right;\">\n",
       "      <th></th>\n",
       "      <th>spectrum_id</th>\n",
       "      <th>params0</th>\n",
       "      <th>params1</th>\n",
       "      <th>params2</th>\n",
       "      <th>params3</th>\n",
       "      <th>params4</th>\n",
       "      <th>params5</th>\n",
       "      <th>params6</th>\n",
       "      <th>rms</th>\n",
       "      <th>beta</th>\n",
       "    </tr>\n",
       "  </thead>\n",
       "  <tbody>\n",
       "    <tr>\n",
       "      <th>0</th>\n",
       "      <td>6107accbaad355ef7a6a</td>\n",
       "      <td>127.865949</td>\n",
       "      <td>25377.691201</td>\n",
       "      <td>1308.970437</td>\n",
       "      <td>5.600802</td>\n",
       "      <td>77836.688738</td>\n",
       "      <td>1301.065016</td>\n",
       "      <td>14.687265</td>\n",
       "      <td>8.331534</td>\n",
       "      <td>0.245874</td>\n",
       "    </tr>\n",
       "    <tr>\n",
       "      <th>1</th>\n",
       "      <td>3be74624a599687d0b8f</td>\n",
       "      <td>9.023676</td>\n",
       "      <td>205.521195</td>\n",
       "      <td>1462.187071</td>\n",
       "      <td>0.668172</td>\n",
       "      <td>49587.620979</td>\n",
       "      <td>1378.112643</td>\n",
       "      <td>13.355577</td>\n",
       "      <td>8.358730</td>\n",
       "      <td>0.004128</td>\n",
       "    </tr>\n",
       "    <tr>\n",
       "      <th>2</th>\n",
       "      <td>617eb161c85ff95c5fdb</td>\n",
       "      <td>32.822043</td>\n",
       "      <td>18667.152957</td>\n",
       "      <td>1384.763808</td>\n",
       "      <td>4.490281</td>\n",
       "      <td>35194.815507</td>\n",
       "      <td>1376.280627</td>\n",
       "      <td>15.707628</td>\n",
       "      <td>7.605297</td>\n",
       "      <td>0.346574</td>\n",
       "    </tr>\n",
       "    <tr>\n",
       "      <th>3</th>\n",
       "      <td>e237d06fbf3d37e4d4bc</td>\n",
       "      <td>16.325396</td>\n",
       "      <td>23360.457021</td>\n",
       "      <td>1280.814542</td>\n",
       "      <td>5.303881</td>\n",
       "      <td>46549.391919</td>\n",
       "      <td>1289.514997</td>\n",
       "      <td>14.972257</td>\n",
       "      <td>8.748348</td>\n",
       "      <td>0.334151</td>\n",
       "    </tr>\n",
       "    <tr>\n",
       "      <th>4</th>\n",
       "      <td>4b452c285ad323eb61d1</td>\n",
       "      <td>106.657770</td>\n",
       "      <td>6515.839921</td>\n",
       "      <td>1342.920428</td>\n",
       "      <td>2.682163</td>\n",
       "      <td>55168.669735</td>\n",
       "      <td>1329.587607</td>\n",
       "      <td>21.026383</td>\n",
       "      <td>9.888422</td>\n",
       "      <td>0.105632</td>\n",
       "    </tr>\n",
       "  </tbody>\n",
       "</table>\n",
       "</div>"
      ],
      "text/plain": [
       "            spectrum_id     params0       params1      params2   params3  \\\n",
       "0  6107accbaad355ef7a6a  127.865949  25377.691201  1308.970437  5.600802   \n",
       "1  3be74624a599687d0b8f    9.023676    205.521195  1462.187071  0.668172   \n",
       "2  617eb161c85ff95c5fdb   32.822043  18667.152957  1384.763808  4.490281   \n",
       "3  e237d06fbf3d37e4d4bc   16.325396  23360.457021  1280.814542  5.303881   \n",
       "4  4b452c285ad323eb61d1  106.657770   6515.839921  1342.920428  2.682163   \n",
       "\n",
       "        params4      params5    params6       rms      beta  \n",
       "0  77836.688738  1301.065016  14.687265  8.331534  0.245874  \n",
       "1  49587.620979  1378.112643  13.355577  8.358730  0.004128  \n",
       "2  35194.815507  1376.280627  15.707628  7.605297  0.346574  \n",
       "3  46549.391919  1289.514997  14.972257  8.748348  0.334151  \n",
       "4  55168.669735  1329.587607  21.026383  9.888422  0.105632  "
      ]
     },
     "execution_count": 15,
     "metadata": {},
     "output_type": "execute_result"
    }
   ],
   "source": [
    "fitting.head()"
   ]
  },
  {
   "cell_type": "code",
   "execution_count": 16,
   "metadata": {},
   "outputs": [
    {
     "data": {
      "text/plain": [
       "16455"
      ]
     },
     "execution_count": 16,
     "metadata": {},
     "output_type": "execute_result"
    }
   ],
   "source": [
    "len(fitting)"
   ]
  },
  {
   "cell_type": "code",
   "execution_count": 17,
   "metadata": {},
   "outputs": [
    {
     "data": {
      "text/plain": [
       "14388"
      ]
     },
     "execution_count": 17,
     "metadata": {},
     "output_type": "execute_result"
    }
   ],
   "source": [
    "7436 + 6952"
   ]
  },
  {
   "cell_type": "code",
   "execution_count": 18,
   "metadata": {},
   "outputs": [
    {
     "data": {
      "text/plain": [
       "16455"
      ]
     },
     "execution_count": 18,
     "metadata": {},
     "output_type": "execute_result"
    }
   ],
   "source": [
    "fitting.spectrum_id.nunique()"
   ]
  },
  {
   "cell_type": "code",
   "execution_count": 21,
   "metadata": {},
   "outputs": [
    {
     "data": {
      "text/plain": [
       "(set(), set())"
      ]
     },
     "execution_count": 21,
     "metadata": {},
     "output_type": "execute_result"
    }
   ],
   "source": [
    "set(train.spectrum_id) - set(fitting.spectrum_id), set(test.spectrum_id) - set(fitting.spectrum_id)"
   ]
  },
  {
   "cell_type": "code",
   "execution_count": 22,
   "metadata": {},
   "outputs": [
    {
     "data": {
      "text/plain": [
       "14388"
      ]
     },
     "execution_count": 22,
     "metadata": {},
     "output_type": "execute_result"
    }
   ],
   "source": [
    "len(list(spectrum_dir.glob(\"*.dat\")))"
   ]
  },
  {
   "cell_type": "code",
   "execution_count": null,
   "metadata": {},
   "outputs": [],
   "source": []
  }
 ],
 "metadata": {
  "kernelspec": {
   "display_name": "Python 3",
   "language": "python",
   "name": "python3"
  },
  "language_info": {
   "codemirror_mode": {
    "name": "ipython",
    "version": 3
   },
   "file_extension": ".py",
   "mimetype": "text/x-python",
   "name": "python",
   "nbconvert_exporter": "python",
   "pygments_lexer": "ipython3",
   "version": "3.6.7"
  }
 },
 "nbformat": 4,
 "nbformat_minor": 4
}
